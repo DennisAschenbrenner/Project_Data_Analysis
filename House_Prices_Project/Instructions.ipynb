{
 "cells": [
  {
   "cell_type": "markdown",
   "metadata": {},
   "source": [
    "For this project, you'll be working with the King County House Sales dataset.  The dataset can be found in the file \"kc_house_data.csv\", in this folder.\n",
    "\n",
    "The description of the column names can be found in the column_names.md file in this repository. \n",
    "\n",
    "The column names are NOT clear at times. In the real world we will run into similar challenges. We would then go ask our business stakeholders for more information. In this case, let us assume our business stakeholder who would give us information, left the company. Meaning we would have to identify and look up what each column names might actually mean.  \n",
    "\n",
    "Data Science Life  Cycle\n",
    "Goals include \n",
    "Data cleaning, \n",
    "\n",
    "Data exploration and Data Visualization.\n",
    "\n",
    "\n",
    "Then model this dataset with a multivariate linear regression to predict the sale price of houses as accurately as possible.\n",
    "\n",
    "The Deliverables\n",
    "\n",
    "\n",
    "1) A well documented Jupyter Notebook containing any code you've written for this project and comments explaining it. This work will need to be pushed to your GitHub repository in order to submit your project.\n",
    "\n",
    "\n",
    "2) An organized README.md file in the GitHub repository that describes the contents of the repository. This file should be the source of information for navigating through the repository.\n",
    "\n",
    "\n",
    "3) A short Keynote/PowerPoint/Google Slides presentation (delivered as a PDF export) giving a high-level overview of your methodology and recommendations for non-technical stakeholders. "
   ]
  },
  {
   "cell_type": "markdown",
   "metadata": {
    "collapsed": true
   },
   "source": [
    "For this project, you'll be working with the King County House Sales dataset. The dataset can be found in the file \"kc_house_data.csv\", in this folder.\n",
    " \n",
    "The description of the column names can be found in the column_names.ipynb file in this repository.\n",
    "The column names are NOT clear at times.\n",
    " In the real world we will run into similar challenges. We would then go ask our business stakeholders for more information. In this case, let us assume our business stakeholder who would give us information, left the company. Meaning we would have to identify and look up what each column names might actually mean.\n",
    "Data Science Life Cycle Goals include Data cleaning,\n",
    "Data exploration and Data Visualization.\n",
    "Tasks for you\n",
    "A) Through statistical analysis/EDA, above please come up with AT LEAST 3 (you can definitely get bonus points for more than 3) recommendations for home sellers and/or buyers in King County.\n",
    " \n",
    "B) Then model this dataset with a multivariate linear regression to predict the sale price of houses as accurately as possible.\n",
    "Axceptable R squared values = 0.7 to 0.9\n",
    "The Deliverables\n",
    "1) A well documented Jupyter Notebook containing any code you've written for this project and comments explaining it. This work will need to be pushed to your GitHub repository in order to submit your project.\n",
    "2) An organized README.md file in the GitHub repository that describes the contents of the repository. This file should be the source of information for navigating through the repository.\n",
    "3) A short Keynote/PowerPoint/Google Slides presentation (delivered as a PDF export) giving a high-level overview of your methodology and recommendations for non-technical stakeholders.\n",
    "\n",
    "\n"
   ]
  },
  {
   "cell_type": "code",
   "execution_count": null,
   "metadata": {},
   "outputs": [],
   "source": []
  }
 ],
 "metadata": {
  "kernelspec": {
   "display_name": "Python 3",
   "language": "python",
   "name": "python3"
  },
  "language_info": {
   "codemirror_mode": {
    "name": "ipython",
    "version": 3
   },
   "file_extension": ".py",
   "mimetype": "text/x-python",
   "name": "python",
   "nbconvert_exporter": "python",
   "pygments_lexer": "ipython3",
   "version": "3.6.6"
  }
 },
 "nbformat": 4,
 "nbformat_minor": 2
}
